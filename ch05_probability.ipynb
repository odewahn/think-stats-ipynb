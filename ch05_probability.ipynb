{
  "metadata": {
    "name": "Probability"
  },
  "nbformat": 3,
  "nbformat_minor": 0,
  "worksheets": [
    {
      "cells": [
        {
          "cell_type": "heading",
          "level": 1,
          "metadata": {
          },
          "source": "Probability"
        },
        {
          "cell_type": "markdown",
          "metadata": {
          },
          "source": "In [Chapter 2](ch02.html#descriptive), I said that a probability is a frequency expressed as a fraction of the sample size. That’s one definition of probability, but it’s not the only one. In fact, the meaning of probability is a topic of some controversy."
        },
        {
          "cell_type": "markdown",
          "metadata": {
          },
          "source": "We’ll start with the uncontroversial parts and work our way up. There is general agreement that a probability is a real value between 0 and 1 that is intended to be a quantitative measure corresponding to the qualitative notion that some things are more likely than others."
        },
        {
          "cell_type": "markdown",
          "metadata": {
          },
          "source": "The “things” we assign probabilities to are called _events_. If _E_ represents an event, then _P_(_E_) represents the probability that _E_ will occur. A situation where _E_ might or might not happen is called a _trial_."
        },
        {
          "cell_type": "markdown",
          "metadata": {
          },
          "source": "As an example, suppose you have a standard six-sided die and want to know the probability of rolling a six. Each roll is a trial. Each time a six appears is considered a _success_; other trials are considered _failures_. These terms are used even in scenarios where “success” is bad and “failure” is good."
        },
        {
          "cell_type": "markdown",
          "metadata": {
          },
          "source": "If we have a finite sample of _n_ trials and we observe _s_ successes, the probability of success is _s_/_n_. If the set of trials is infinite, defining probabilities is a little trickier, but most people are willing to accept probabilistic claims about a hypothetical series of identical trials, like tossing a coin or rolling a die."
        },
        {
          "cell_type": "markdown",
          "metadata": {
          },
          "source": "We start to run into trouble when we talk about probabilities of unique events. For example, we might like to know the probability that a candidate will win an election. But every election is unique, so there is no series of identical trials to consider."
        },
        {
          "cell_type": "markdown",
          "metadata": {
          },
          "source": "In cases like this, some people would say that the notion of probability does not apply. This position is sometimes called _frequentism_ because it defines probability in terms of frequencies. If there is no set of identical trials, there is no probability."
        },
        {
          "cell_type": "markdown",
          "metadata": {
          },
          "source": "Frequentism is philosophically safe, but frustrating because it limits the scope of probability to physical systems that are either random (like atomic decay) or so unpredictable that we model them as random (like a tumbling die). Anything involving people is pretty much off the table."
        },
        {
          "cell_type": "markdown",
          "metadata": {
          },
          "source": "An alternative is _Bayesianism_, which defines probability as a degree of belief that an event will occur. By this definition, the notion of probability can be applied in almost any circumstance. One difficulty with Bayesian probability is that it depends on a person’s state of knowledge; people with different information might have different degrees of belief about the same event. For this reason, many people think that Bayesian probabilities are more subjective than frequency probabilities."
        },
        {
          "cell_type": "markdown",
          "metadata": {
          },
          "source": "As an example, what is the probability that Thaksin Shinawatra is the Prime Minister of Thailand? A frequentist would say that there is no probability for this event because there is no set of trials. Thaksin either is, or is not, the PM; it’s not a question of probability."
        },
        {
          "cell_type": "markdown",
          "metadata": {
          },
          "source": "In contrast, a Bayesian would be willing to assign a probability to this event based on his or her state of knowledge. For example, if you remember that there was a coup in Thailand in 2006, and you are pretty sure Thaksin was the PM who was ousted, you might assign a probability like 0.1, which acknowledges the possibility that your recollection is incorrect, or that Thaksin has been reinstated."
        },
        {
          "cell_type": "markdown",
          "metadata": {
          },
          "source": "If you consult Wikipedia, you will learn that Thaksin is not the PM of Thailand (at the time I am writing). Based on this information, you might revise your probability estimate to 0.01, reflecting the possibility that Wikipedia is wrong."
        },
        {
          "cell_type": "heading",
          "level": 2,
          "metadata": {
          },
          "source": "Rules of Probability"
        },
        {
          "cell_type": "markdown",
          "metadata": {
          },
          "source": "For frequency probabilities, we can derive rules that relate probabilities of different events. Probably the best known of these rules is:"
        },
        {
          "cell_type": "markdown",
          "metadata": {
          },
          "source": "_P_(_A_ and _B_) = _P_(_A_) _P_(_B_)  Warning: not always true!"
        },
        {
          "cell_type": "markdown",
          "metadata": {
          },
          "source": "where _P_(_A_ and _B_) is the probability that events _A_ and _B_ both occur. This formula is easy to remember; the only problem is that it is _not always true_. This formula only applies if _A_ and _B_ are _independent_, which means that if I know _A_ occurred, that doesn’t change the probability of _B_, and vice versa."
        },
        {
          "cell_type": "markdown",
          "metadata": {
          },
          "source": "For example, if _A_ is tossing a coin and getting heads, and _B_ is rolling a die and getting 1, _A_ and _B_ are independent, because the coin toss doesn’t tell me anything about the die roll."
        },
        {
          "cell_type": "markdown",
          "metadata": {
          },
          "source": "But if I roll two dice, and _A_ is getting at least one six, and _B_ is getting two sixes, _A_ and _B_ are not independent, because if I know that _A_ occurred, the probability of _B_ is higher, and if I know _B_ occurred, the probability of _A_ is 1."
        },
        {
          "cell_type": "markdown",
          "metadata": {
          },
          "source": "When _A_ and _B_ are not independent, it is often useful to compute the conditional probability, _P_(_A_|_B_), which is the probability of _A_ given that we know _B_ occurred:"
        },
        {
          "cell_type": "markdown",
          "metadata": {
          },
          "source": "From that, we can derive the general relation"
        },
        {
          "cell_type": "markdown",
          "metadata": {
          },
          "source": "_P_(_A_ and _B_) = _P_(_A_) _P_(_B_|_A_)"
        },
        {
          "cell_type": "markdown",
          "metadata": {
          },
          "source": "This might not be as easy to remember, but if you translate it into English, it should make sense: “The chance of both things happening is the chance that the first one happens, and then the second one given the first.”"
        },
        {
          "cell_type": "markdown",
          "metadata": {
          },
          "source": "There is nothing special about the order of events, so we could also write"
        },
        {
          "cell_type": "markdown",
          "metadata": {
          },
          "source": "_P_(_A_ and _B_) = _P_(_B_) _P_(_A_|_B_)"
        },
        {
          "cell_type": "markdown",
          "metadata": {
          },
          "source": "These relationships hold whether _A_ and _B_ are independent or not. If they are independent, then _P_(_A_|_B_) = _P_(_A_), which gets us back where we started."
        },
        {
          "cell_type": "markdown",
          "metadata": {
          },
          "source": "Because all probabilities are in the range 0 to 1, it is easy to show that"
        },
        {
          "cell_type": "markdown",
          "metadata": {
          },
          "source": "_P_(_A_ and _B_) ≤ _P_(_A_)"
        },
        {
          "cell_type": "markdown",
          "metadata": {
          },
          "source": "To picture this, imagine a club that only admits people who satisfy some requirement, _A_. Now suppose they add a new requirement for membership, _B_. It seems obvious that the club will get smaller, or stay the same if it happens that all the members satisfy _B_. But there are some scenarios where people are surprisingly bad at this kind of analysis. For examples and discussion of this phenomenon, see [http://wikipedia.org/wiki/Conjunction\\_fallacy](http://wikipedia.org/wiki/Conjunction_fallacy)."
        },
        {
          "cell_type": "markdown",
          "metadata": {
          },
          "source": "."
        },
        {
          "cell_type": "markdown",
          "metadata": {
          },
          "source": "."
        },
        {
          "cell_type": "markdown",
          "metadata": {
          },
          "source": "."
        },
        {
          "cell_type": "markdown",
          "metadata": {
          },
          "source": "."
        },
        {
          "cell_type": "markdown",
          "metadata": {
          },
          "source": "."
        },
        {
          "cell_type": "heading",
          "level": 2,
          "metadata": {
          },
          "source": "Streaks and Hot Spots"
        },
        {
          "cell_type": "markdown",
          "metadata": {
          },
          "source": "People do not have very good intuition for random processes. If you ask people to generate “random” numbers, they tend to generate sequences that are random-looking, but actually more ordered than real random sequences. Conversely, if you show them a real random sequence, they tend to see patterns where there are none."
        },
        {
          "cell_type": "markdown",
          "metadata": {
          },
          "source": "An example of the second phenomenon is that many people believe in “streaks” in sports: a player that has been successful recently is said to have a “hot hand”; a player that has been unsuccessful is “in a slump.”"
        },
        {
          "cell_type": "markdown",
          "metadata": {
          },
          "source": "Statisticians have tested these hypotheses in a number of sports, and the consistent result is that there is no such thing as a streak. [11](ch05.html#idp711120) If you assume that each attempt is independent of previous attempts, you will see occasional long strings of successes or failures. These apparent streaks are not sufficient evidence that there is any relationship between successive attempts."
        },
        {
          "cell_type": "markdown",
          "metadata": {
          },
          "source": "A related phenomenon is the clustering illusion, which is the tendency to see clusters in spatial patterns that are actually random (see [http://wikipedia.org/wiki/Clustering\\_illusion](http://wikipedia.org/wiki/Clustering_illusion))."
        },
        {
          "cell_type": "markdown",
          "metadata": {
          },
          "source": "To test whether an apparent cluster is likely to be meaningful, we can simulate the behavior of a random system to see whether it is likely to produce a similar cluster. This process is called _Monte Carlo_ simulation because generating random numbers is reminiscent of casino games (and Monte Carlo is famous for its casino)."
        },
        {
          "cell_type": "markdown",
          "metadata": {
          },
          "source": "."
        },
        {
          "cell_type": "markdown",
          "metadata": {
          },
          "source": "."
        },
        {
          "cell_type": "markdown",
          "metadata": {
          },
          "source": "."
        },
        {
          "cell_type": "markdown",
          "metadata": {
          },
          "source": "."
        }
      ],
      "metadata": {
      }
    }
  ]
}