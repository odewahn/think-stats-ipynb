{
  "metadata": {
    "name": "Descriptive Statistics"
  },
  "nbformat": 3,
  "nbformat_minor": 0,
  "worksheets": [
    {
      "cells": [
        {
          "cell_type": "heading",
          "level": 1,
          "metadata": {
          },
          "source": "Descriptive Statistics"
        },
        {
          "cell_type": "heading",
          "level": 2,
          "metadata": {
          },
          "source": "Means and Averages"
        },
        {
          "cell_type": "markdown",
          "metadata": {
          },
          "source": "In the previous chapter, I mentioned three summary statistics—mean, variance, and median—without explaining what they are. So before we go any farther, let’s take care of that."
        },
        {
          "cell_type": "markdown",
          "metadata": {
          },
          "source": "If you have a sample of _n_ values, _x_ _i_, the mean, _μ_, is the sum of the values divided by the number of values; in other words"
        },
        {
          "cell_type": "markdown",
          "metadata": {
          },
          "source": "The words “mean” and “average” are sometimes used interchangeably, but I will maintain this distinction:"
        },
        {
          "cell_type": "markdown",
          "metadata": {
          },
          "source": "<ul>\n<li>\n<p>The “mean” of a sample is the summary statistic computed with the previous formula.</p>\n</li>\n<li>\n<p>An “average” is one of many summary statistics you might choose to describe the typical value or the <em>central tendency</em> of a sample.</p>\n</li>\n</ul>\n"
        },
        {
          "cell_type": "markdown",
          "metadata": {
          },
          "source": "Sometimes the mean is a good description of a set of values. For example, apples are all pretty much the same size (at least the ones sold in supermarkets). So if I buy six apples and the total weight is three pounds, it would be reasonable to conclude that they are about a half pound each."
        },
        {
          "cell_type": "markdown",
          "metadata": {
          },
          "source": "But pumpkins are more diverse. Suppose I grow several varieties in my garden, and one day I harvest three decorative pumpkins that are one pound each, two pie pumpkins that are three pounds each, and one Atlantic Giant pumpkin that weighs 591 pounds. The mean of this sample is 100 pounds, but if I told you “The average pumpkin in my garden is 100 pounds,” that would be wrong, or at least misleading."
        },
        {
          "cell_type": "markdown",
          "metadata": {
          },
          "source": "In this example, there is no meaningful average because there is no typical pumpkin."
        },
        {
          "cell_type": "heading",
          "level": 2,
          "metadata": {
          },
          "source": "Variance"
        },
        {
          "cell_type": "markdown",
          "metadata": {
          },
          "source": "If there is no single number that summarizes pumpkin weights, we can do a little better with two numbers: mean and _variance_."
        },
        {
          "cell_type": "markdown",
          "metadata": {
          },
          "source": "In the same way that the mean is intended to describe the central tendency, variance is intended to describe the _spread_. The variance of a set of values is"
        },
        {
          "cell_type": "markdown",
          "metadata": {
          },
          "source": "The term _x_ _i_-_μ_ is called the “deviation from the mean,” so variance is the mean squared deviation, which is why it is denoted _σ\\_\\_2_. The square root of variance, _σ_, is called the _standard deviation_."
        },
        {
          "cell_type": "markdown",
          "metadata": {
          },
          "source": "By itself, variance is hard to interpret. One problem is that the units are strange; in this case, the measurements are in pounds, so the variance is in pounds squared. Standard deviation is more meaningful; in this case, the units are pounds."
        },
        {
          "cell_type": "markdown",
          "metadata": {
          },
          "source": "."
        },
        {
          "cell_type": "markdown",
          "metadata": {
          },
          "source": "If you have prior experience, you might have seen a formula for variance with _n_ − 1 in the denominator, rather than _n_. This statistic is called the “sample variance,” and it is used to estimate the variance in a population using a sample. We will come back to this in [Chapter 7](ch07.html#estimation)."
        },
        {
          "cell_type": "heading",
          "level": 2,
          "metadata": {
          },
          "source": "Distributions"
        },
        {
          "cell_type": "markdown",
          "metadata": {
          },
          "source": "Summary statistics are concise, but dangerous, because they obscure the data. An alternative is to look at the _distribution_ of the data, which describes how often each value appears."
        },
        {
          "cell_type": "markdown",
          "metadata": {
          },
          "source": "The most common representation of a distribution is a _histogram_, which is a graph that shows the frequency or probability of each value."
        },
        {
          "cell_type": "markdown",
          "metadata": {
          },
          "source": "In this context, _frequency_ means the number of times a value appears in a dataset—it has nothing to do with the pitch of a sound or tuning of a radio signal. A _probability_ is a frequency expressed as a fraction of the sample size, _n_."
        },
        {
          "cell_type": "markdown",
          "metadata": {
          },
          "source": "In Python, an efficient way to compute frequencies is with a dictionary. Given a sequence of values, `t` :"
        },
        {
          "cell_type": "code",
          "collapsed": false,
          "input": "hist = {}\nfor x in t:\n    hist[x] = hist.get(x, 0) + 1",
          "language": "python",
          "metadata": {
          },
          "outputs": [

          ]
        },
        {
          "cell_type": "markdown",
          "metadata": {
          },
          "source": "The result is a dictionary that maps from values to frequencies. To get from frequencies to probabilities, we divide through by _n_, which is called _normalization_:"
        },
        {
          "cell_type": "code",
          "collapsed": false,
          "input": "n = float(len(t))\npmf = {}\nfor x, freq in hist.items():\n    pmf[x] = freq / n",
          "language": "python",
          "metadata": {
          },
          "outputs": [

          ]
        },
        {
          "cell_type": "markdown",
          "metadata": {
          },
          "source": "The normalized histogram is called a _PMF_, which stands for “probability mass function”; that is, it’s a function that maps from values to probabilities (I’ll explain “mass” in ???)."
        },
        {
          "cell_type": "markdown",
          "metadata": {
          },
          "source": "It might be confusing to call a Python dictionary a function. In mathematics, a function is a map from one set of values to another. In Python, we _usually_ represent mathematical functions with function objects, but in this case we are using a dictionary (dictionaries are also called “maps,” if that helps)."
        },
        {
          "cell_type": "heading",
          "level": 2,
          "metadata": {
          },
          "source": "Representing Histograms"
        },
        {
          "cell_type": "markdown",
          "metadata": {
          },
          "source": "I wrote a Python module called `Pmf.py` that contains class definitions for Hist objects, which represent histograms, and Pmf objects, which represent PMFs. You can read the documentation at [http://thinkstats.com/Pmf.html](http://thinkstats.com/Pmf.html) and download the code from [http://thinkstats.com/Pmf.py](http://thinkstats.com/Pmf.py)."
        },
        {
          "cell_type": "markdown",
          "metadata": {
          },
          "source": "The function `MakeHistFromList` takes a list of values and returns a new Hist object. You can test it in Python’s interactive mode:"
        },
        {
          "cell_type": "code",
          "collapsed": false,
          "input": "&gt;&gt;&gt; import Pmf\n&gt;&gt;&gt; hist = Pmf.MakeHistFromList([1, 2, 2, 3, 5])\n&gt;&gt;&gt; print hist\n&lt;Pmf.Hist object at 0xb76cf68c&gt;",
          "language": "python",
          "metadata": {
          },
          "outputs": [

          ]
        },
        {
          "cell_type": "markdown",
          "metadata": {
          },
          "source": "`Pmf.Hist` means that this object is a member of the Hist class, which is defined in the Pmf module. In general, I use uppercase letters for the names of classes and functions, and lowercase letters for variables."
        },
        {
          "cell_type": "markdown",
          "metadata": {
          },
          "source": "Hist objects provide methods to look up values and their probabilities. `Freq` takes a value and returns its frequency:"
        },
        {
          "cell_type": "code",
          "collapsed": false,
          "input": "&gt;&gt;&gt; hist.Freq(2)\n2",
          "language": "python",
          "metadata": {
          },
          "outputs": [

          ]
        },
        {
          "cell_type": "markdown",
          "metadata": {
          },
          "source": "If you look up a value that has never appeared, the frequency is 0."
        },
        {
          "cell_type": "code",
          "collapsed": false,
          "input": "&gt;&gt;&gt; hist.Freq(4)\n0",
          "language": "python",
          "metadata": {
          },
          "outputs": [

          ]
        },
        {
          "cell_type": "markdown",
          "metadata": {
          },
          "source": "`Values` returns an unsorted list of the values in the Hist:"
        },
        {
          "cell_type": "code",
          "collapsed": false,
          "input": "&gt;&gt;&gt; hist.Values()\n[1, 5, 3, 2]",
          "language": "python",
          "metadata": {
          },
          "outputs": [

          ]
        },
        {
          "cell_type": "markdown",
          "metadata": {
          },
          "source": "To loop through the values in order, you can use the built-in function `sorted` :"
        },
        {
          "cell_type": "code",
          "collapsed": false,
          "input": "for val in sorted(hist.Values()):\n    print val, hist.Freq(val)",
          "language": "python",
          "metadata": {
          },
          "outputs": [

          ]
        },
        {
          "cell_type": "markdown",
          "metadata": {
          },
          "source": "If you are planning to look up all of the frequencies, it is more efficient to use `Items` , which returns an unsorted list of value-frequency pairs:"
        },
        {
          "cell_type": "code",
          "collapsed": false,
          "input": "for val, freq in hist.Items():\n     print val, freq",
          "language": "python",
          "metadata": {
          },
          "outputs": [

          ]
        },
        {
          "cell_type": "markdown",
          "metadata": {
          },
          "source": "."
        },
        {
          "cell_type": "markdown",
          "metadata": {
          },
          "source": "."
        },
        {
          "cell_type": "heading",
          "level": 2,
          "metadata": {
          },
          "source": "Conditional Probability"
        },
        {
          "cell_type": "markdown",
          "metadata": {
          },
          "source": "Imagine that someone you know is pregnant, and it is the beginning of Week 39. What is the chance that the baby will be born in the next week? How much does the answer change if it’s a first baby?"
        },
        {
          "cell_type": "markdown",
          "metadata": {
          },
          "source": "We can answer these questions by computing a _conditional probability_, which is (ahem!) a probability that depends on a condition. In this case, the condition is that we know the baby didn’t arrive during Weeks 0–38."
        },
        {
          "cell_type": "markdown",
          "metadata": {
          },
          "source": "Here’s one way to do it:"
        },
        {
          "cell_type": "markdown",
          "metadata": {
          },
          "source": "<ol>\n<li>\n<p>Given a PMF, generate a fake cohort of 1,000 pregnancies. For each number of weeks, <em>x</em>, the number of pregnancies with duration <em>x</em> is 1,000 PMF(<em>x</em>).</p>\n</li>\n<li>\n<p>Remove from the cohort all pregnancies with length less than 39.</p>\n</li>\n<li>\n<p>Compute the PMF of the remaining durations; the result is the conditional PMF.</p>\n</li>\n<li>\n<p>Evaluate the conditional PMF at <em>x</em> = 39 weeks.</p>\n</li>\n\n</ol>\n"
        },
        {
          "cell_type": "markdown",
          "metadata": {
          },
          "source": "This algorithm is conceptually clear, but not very efficient. A simple alternative is to remove from the distribution the values less than 39 and then renormalize."
        },
        {
          "cell_type": "markdown",
          "metadata": {
          },
          "source": "."
        },
        {
          "cell_type": "heading",
          "level": 2,
          "metadata": {
          },
          "source": "Glossary"
        }
      ],
      "metadata": {
      }
    }
  ]
}