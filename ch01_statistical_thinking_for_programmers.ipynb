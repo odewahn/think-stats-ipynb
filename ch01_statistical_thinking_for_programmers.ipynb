{
  "metadata": {
    "name": "Statistical Thinking for Programmers"
  },
  "nbformat": 3,
  "nbformat_minor": 0,
  "worksheets": [
    {
      "cells": [
        {
          "cell_type": "heading",
          "level": 1,
          "metadata": {
          },
          "source": "Statistical Thinking for Programmers"
        },
        {
          "cell_type": "markdown",
          "metadata": {
          },
          "source": "This book is about turning data into knowledge. Data is cheap (at least relatively); knowledge is harder to come by."
        },
        {
          "cell_type": "markdown",
          "metadata": {
          },
          "source": "I will present three related pieces:"
        },
        {
          "cell_type": "markdown",
          "metadata": {
          },
          "source": "The thesis of this book is that if you know how to program, you can use that skill to help you understand probability and statistics. These topics are often presented from a mathematical perspective, and that approach works well for some people. But some important ideas in this area are hard to work with mathematically and relatively easy to approach computationally."
        },
        {
          "cell_type": "markdown",
          "metadata": {
          },
          "source": "The rest of this chapter presents a case study motivated by a question I heard when my wife and I were expecting our first child: do first babies tend to arrive late?"
        },
        {
          "cell_type": "heading",
          "level": 2,
          "metadata": {
          },
          "source": "Do First Babies Arrive Late?"
        },
        {
          "cell_type": "markdown",
          "metadata": {
          },
          "source": "If you Google this question, you will find plenty of discussion. Some people claim it’s true, others say it’s a myth, and some people say it’s the other way around: first babies come early."
        },
        {
          "cell_type": "markdown",
          "metadata": {
          },
          "source": "In many of these discussions, people provide data to support their claims. I found many examples like these:"
        },
        {
          "cell_type": "markdown",
          "metadata": {
          },
          "source": "“My two friends that have given birth recently to their first babies, BOTH went almost 2 weeks overdue before going into labor or being induced.”"
        },
        {
          "cell_type": "markdown",
          "metadata": {
          },
          "source": "“My first one came 2 weeks late and now I think the second one is going to come out two weeks early!!”"
        },
        {
          "cell_type": "markdown",
          "metadata": {
          },
          "source": "“I don’t think that can be true because my sister was my mother’s first and she was early, as with many of my cousins.”"
        },
        {
          "cell_type": "markdown",
          "metadata": {
          },
          "source": "Reports like these are called _anecdotal evidence_ because they are based on data that is unpublished and usually personal. In casual conversation, there is nothing wrong with anecdotes, so I don’t mean to pick on the people I quoted."
        },
        {
          "cell_type": "markdown",
          "metadata": {
          },
          "source": "But we might want evidence that is more persuasive and an answer that is more reliable. By those standards, anecdotal evidence usually fails, because:"
        },
        {
          "cell_type": "markdown",
          "metadata": {
          },
          "source": "So how can we do better?"
        },
        {
          "cell_type": "heading",
          "level": 2,
          "metadata": {
          },
          "source": "A Statistical Approach"
        },
        {
          "cell_type": "markdown",
          "metadata": {
          },
          "source": "To address the limitations of anecdotes, we will use the tools of statistics, which include:"
        },
        {
          "cell_type": "markdown",
          "metadata": {
          },
          "source": "By performing these steps with care to avoid pitfalls, we can reach conclusions that are more justifiable and more likely to be correct."
        },
        {
          "cell_type": "heading",
          "level": 2,
          "metadata": {
          },
          "source": "The National Survey of Family Growth"
        },
        {
          "cell_type": "markdown",
          "metadata": {
          },
          "source": "Since 1973, the U.S. Centers for Disease Control and Prevention (CDC) have conducted the National Survey of Family Growth (NSFG), which is intended to gather “information on family life, marriage and divorce, pregnancy, infertility, use of contraception, and men’s and women’s health. The survey results are used … to plan health services and health education programs, and to do statistical studies of families, fertility, and health.” [1](ch01.html#idp86688)"
        },
        {
          "cell_type": "markdown",
          "metadata": {
          },
          "source": "We will use data collected by this survey to investigate whether first babies tend to come late, and other questions. In order to use this data effectively, we have to understand the design of the study."
        },
        {
          "cell_type": "markdown",
          "metadata": {
          },
          "source": "The NSFG is a _cross-sectional_ study, which means that it captures a snapshot of a group at a point in time. The most common alternative is a _longitudinal_ study, which observes a group repeatedly over a period of time."
        },
        {
          "cell_type": "markdown",
          "metadata": {
          },
          "source": "The NSFG has been conducted seven times; each deployment is called a _cycle_. We will be using data from Cycle 6, which was conducted from January 2002 to March 2003."
        },
        {
          "cell_type": "markdown",
          "metadata": {
          },
          "source": "The goal of the survey is to draw conclusions about a _population_; the target population of the NSFG is people in the United States aged 15–44."
        },
        {
          "cell_type": "markdown",
          "metadata": {
          },
          "source": "The people who participate in a survey are called _respondents_; a group of respondents is called a _cohort_. In general, cross-sectional studies are meant to be _representative_, which means that every member of the target population has an equal chance of participating. Of course, that ideal is hard to achieve in practice, but people who conduct surveys come as close as they can."
        },
        {
          "cell_type": "markdown",
          "metadata": {
          },
          "source": "The NSFG is not representative; instead, it is deliberately _oversampled_. The designers of the study recruited three groups—Hispanics, African-Americans, and teenagers—at rates higher than their representation in the U.S. population. The reason for oversampling is to make sure that the number of respondents in each of these groups is large enough to draw valid statistical inferences."
        },
        {
          "cell_type": "markdown",
          "metadata": {
          },
          "source": "Of course, the drawback of oversampling is that it is not as easy to draw conclusions about the general population based on statistics from the survey. We will come back to this point later."
        },
        {
          "cell_type": "markdown",
          "metadata": {
          },
          "source": "."
        },
        {
          "cell_type": "heading",
          "level": 2,
          "metadata": {
          },
          "source": "Tables and Records"
        },
        {
          "cell_type": "markdown",
          "metadata": {
          },
          "source": "The poet-philosopher Steve Martin once said:"
        },
        {
          "cell_type": "markdown",
          "metadata": {
          },
          "source": "“Oeuf” means egg, “chapeau” means hat. It’s like those French have a different word for everything."
        },
        {
          "cell_type": "markdown",
          "metadata": {
          },
          "source": "Like the French, database programmers speak a slightly different language, and since we’re working with a database, we need to learn some vocabulary."
        },
        {
          "cell_type": "markdown",
          "metadata": {
          },
          "source": "Each line in the respondents file contains information about one respondent. This information is called a _record_. The variables that make up a record are called _fields_. A collection of records is called a _table_."
        },
        {
          "cell_type": "markdown",
          "metadata": {
          },
          "source": "If you read `survey.py` , you will see class definitions for `Record` , which is an object that represents a record, and `Table` , which represents a table."
        },
        {
          "cell_type": "markdown",
          "metadata": {
          },
          "source": "There are two subclasses of `Record` — `Respondent` and `Pregnancy` —which contain records from the respondent and pregnancy tables. For the time being, these classes are empty; in particular, there is no init method to initialize their attributes. Instead, we will use `Table.MakeRecord` to convert a line of text into a `Record` object."
        },
        {
          "cell_type": "markdown",
          "metadata": {
          },
          "source": "There are also two subclasses of `Table` : `Respondents` and `Pregnancies` . The init method in each class specifies the default name of the data file and the type of record to create. Each `Table` object has an attribute named `records` , which is a list of `Record` objects."
        },
        {
          "cell_type": "markdown",
          "metadata": {
          },
          "source": "For each `Table` , the `GetFields` method returns a list of tuples that specify the fields from the record that will be stored as attributes in each `Record` object. (You might want to read that last sentence twice.)"
        },
        {
          "cell_type": "markdown",
          "metadata": {
          },
          "source": "For example, here is `Pregnancies.GetFields` :"
        },
        {
          "cell_type": "code",
          "collapsed": false,
          "input": "def GetFields(self):\n        return [\n            ('caseid', 1, 12, int),\n            ('prglength', 275, 276, int),\n            ('outcome', 277, 277, int),\n            ('birthord', 278, 279, int),\n            ('finalwgt', 423, 440, float),\n            ]",
          "language": "python",
          "metadata": {
          },
          "outputs": [

          ]
        },
        {
          "cell_type": "markdown",
          "metadata": {
          },
          "source": "The first tuple says that the field `caseid` is in columns 1 through 12 and it’s an integer. Each tuple contains the following information:"
        },
        {
          "cell_type": "markdown",
          "metadata": {
          },
          "source": "For pregnancy records, we extract the following variables:"
        },
        {
          "cell_type": "markdown",
          "metadata": {
          },
          "source": "If you read the casebook carefully, you will see that most of these variables are _recodes_, which means that they are not part of the _raw data_ collected by the survey, but they are calculated using the raw data."
        },
        {
          "cell_type": "markdown",
          "metadata": {
          },
          "source": "For example, `prglength` for live births is equal to the raw variable `wksgest` (weeks of gestation) if it is available; otherwise, it is estimated using `mosgest \\*\n        4.33`  (months of gestation times the average number of weeks in a month)."
        },
        {
          "cell_type": "markdown",
          "metadata": {
          },
          "source": "Recodes are often based on logic that checks the consistency and accuracy of the data. In general it is a good idea to use recodes unless there is a compelling reason to process the raw data yourself."
        },
        {
          "cell_type": "markdown",
          "metadata": {
          },
          "source": "You might also notice that `Pregnancies` has a method called `Recode` that does some additional checking and recoding."
        },
        {
          "cell_type": "markdown",
          "metadata": {
          },
          "source": "."
        },
        {
          "cell_type": "heading",
          "level": 2,
          "metadata": {
          },
          "source": "Glossary"
        }
      ],
      "metadata": {
      }
    }
  ]
}