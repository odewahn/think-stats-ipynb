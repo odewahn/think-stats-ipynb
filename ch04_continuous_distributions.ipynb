{
  "metadata": {
    "name": "Continuous Distributions"
  },
  "nbformat": 3,
  "nbformat_minor": 0,
  "worksheets": [
    {
      "cells": [
        {
          "cell_type": "heading",
          "level": 1,
          "metadata": {
          },
          "source": "Continuous Distributions"
        },
        {
          "cell_type": "markdown",
          "metadata": {
          },
          "source": "The distributions we have used so far are called _empirical distributions_ because they are based on empirical observations, which are necessarily finite samples."
        },
        {
          "cell_type": "markdown",
          "metadata": {
          },
          "source": "The alternative is a _continuous distribution_, which is characterized by a CDF that is a continuous function (as opposed to a step function). Many real-world phenomena can be approximated by continuous distributions."
        },
        {
          "cell_type": "heading",
          "level": 2,
          "metadata": {
          },
          "source": "The Exponential Distribution"
        },
        {
          "cell_type": "markdown",
          "metadata": {
          },
          "source": "I’ll start with the exponential distribution because it is easy to work with. In the real world, exponential distributions come up when we look at a series of events and measure the times between events, which are called _interarrival times_. If the events are equally likely to occur at any time, the distribution of interarrival times tends to look like an exponential distribution."
        },
        {
          "cell_type": "markdown",
          "metadata": {
          },
          "source": "The CDF of the exponential distribution is:"
        },
        {
          "cell_type": "markdown",
          "metadata": {
          },
          "source": "_CDF(x) = 1 - e_-_λ_ _x_"
        },
        {
          "cell_type": "markdown",
          "metadata": {
          },
          "source": "The parameter, _λ_, determines the shape of the distribution. Figure 4-1 shows what this CDF looks like with _λ_ = 2."
        },
        {
          "cell_type": "markdown",
          "metadata": {
          },
          "source": "<figure id=\"expo_cdf\"><img src=\"files/figs/web/thst_0401.png\" alt=\"thst 0401\"><figcaption>CDF of exponential distribution</figcaption></figure>"
        },
        {
          "cell_type": "markdown",
          "metadata": {
          },
          "source": "In general, the mean of an exponential distribution is 1/_λ_, so the mean of this distribution is 0.5. The median is log(2)/_λ_, which is roughly 0.35."
        },
        {
          "cell_type": "markdown",
          "metadata": {
          },
          "source": "To see an example of a distribution that is approximately exponential, we will look at the interarrival time of babies. On December 18, 1997, 44 babies were born in a hospital in Brisbane, Australia. [5](ch04.html#idp460064) The times of birth for all 44 babies were reported in the local paper; you can download the data from [http://thinkstats.com/babyboom.dat](http://thinkstats.com/babyboom.dat)."
        },
        {
          "cell_type": "markdown",
          "metadata": {
          },
          "source": "Figure 4-2 shows the CDF of the interarrival times in minutes. It seems to have the general shape of an exponential distribution, but how can we tell?"
        },
        {
          "cell_type": "markdown",
          "metadata": {
          },
          "source": "<figure id=\"interarrival_cdf\"><img src=\"files/figs/web/thst_0402.png\" alt=\"thst 0402\"><figcaption>CDF of interarrival times</figcaption></figure>"
        },
        {
          "cell_type": "markdown",
          "metadata": {
          },
          "source": "One way is to plot the complementary CDF, 1 − CDF(_x_), on a log-_y_ scale. For data from an exponential distribution, the result is a straight line. Let’s see why that works."
        },
        {
          "cell_type": "markdown",
          "metadata": {
          },
          "source": "If you plot the complementary CDF (CCDF) of a dataset that you think is exponential, you expect to see a function like:"
        },
        {
          "cell_type": "markdown",
          "metadata": {
          },
          "source": "_y_ ≈ _e_-_λ_ _x_"
        },
        {
          "cell_type": "markdown",
          "metadata": {
          },
          "source": "Taking the log of both sides yields:"
        },
        {
          "cell_type": "markdown",
          "metadata": {
          },
          "source": "log _y_ ≈ -_λ_ _x_"
        },
        {
          "cell_type": "markdown",
          "metadata": {
          },
          "source": "So on a log-_y_ scale, the CCDF is a straight line with slope −_λ_."
        },
        {
          "cell_type": "markdown",
          "metadata": {
          },
          "source": "Figure 4-3 shows the CCDF of the interarrivals on a log-_y_ scale. It is not exactly straight, which suggests that the exponential distribution is only an approximation. Most likely the underlying assumption—that a birth is equally likely at any time of day—is not exactly true."
        },
        {
          "cell_type": "markdown",
          "metadata": {
          },
          "source": "<figure id=\"interarrival_ccdf\"><img src=\"files/figs/web/thst_0403.png\" alt=\"thst 0403\"><figcaption>CCDF of interarrival times</figcaption></figure>"
        },
        {
          "cell_type": "markdown",
          "metadata": {
          },
          "source": "."
        },
        {
          "cell_type": "markdown",
          "metadata": {
          },
          "source": "."
        },
        {
          "cell_type": "markdown",
          "metadata": {
          },
          "source": "."
        },
        {
          "cell_type": "markdown",
          "metadata": {
          },
          "source": "."
        },
        {
          "cell_type": "markdown",
          "metadata": {
          },
          "source": "."
        },
        {
          "cell_type": "markdown",
          "metadata": {
          },
          "source": "Computing rankits exactly is moderately difficult, but there are numerical methods for approximating them. And there is a quick-and-dirty method that is even easier to implement:"
        },
        {
          "cell_type": "markdown",
          "metadata": {
          },
          "source": "<ol>\n<li>\n<p>From a normal distribution with <em>μ</em> = 0 and <em>σ</em> = 1, generate a sample with the same size as your dataset and sort it.</p>\n</li>\n<li>\n<p>Sort the values in the dataset.</p>\n</li>\n<li>\n<p>Plot the sorted values from your dataset versus the random values.</p>\n</li>\n\n</ol>\n"
        },
        {
          "cell_type": "markdown",
          "metadata": {
          },
          "source": "For large datasets, this method works well. For smaller datasets, you can improve it by generating _m_(_n_+1) − 1 values from a normal distribution, where _n_ is the size of the dataset and _m_ is a multiplier. Then select every _m_ th element, starting with the _m_ th."
        },
        {
          "cell_type": "markdown",
          "metadata": {
          },
          "source": "This method works with other distributions as well, as long as you know how to generate a random sample."
        },
        {
          "cell_type": "markdown",
          "metadata": {
          },
          "source": "Figure 4-7 is a quick-and-dirty normal probability plot for the birth weight data."
        },
        {
          "cell_type": "markdown",
          "metadata": {
          },
          "source": "<figure id=\"nsfg_birthwgt_normal\"><img src=\"files/figs/web/thst_0407.png\" alt=\"thst 0407\"><figcaption>Normal probability plot of birth weights</figcaption></figure>"
        },
        {
          "cell_type": "markdown",
          "metadata": {
          },
          "source": "The curvature in this plot suggests that there are deviations from a normal distribution; nevertheless, it is a good (enough) model for many purposes."
        },
        {
          "cell_type": "markdown",
          "metadata": {
          },
          "source": "."
        },
        {
          "cell_type": "markdown",
          "metadata": {
          },
          "source": "."
        },
        {
          "cell_type": "heading",
          "level": 2,
          "metadata": {
          },
          "source": "Why Model?"
        },
        {
          "cell_type": "markdown",
          "metadata": {
          },
          "source": "At the beginning of this chapter, I said that many real-world phenomena can be modeled with continuous distributions. “So what?”, you might ask."
        },
        {
          "cell_type": "markdown",
          "metadata": {
          },
          "source": "Like all models, continuous distributions are abstractions, which means they leave out details that are considered irrelevant. For example, an observed distribution might have measurement errors or quirks that are specific to the sample; continuous models smooth out these idiosyncrasies."
        },
        {
          "cell_type": "markdown",
          "metadata": {
          },
          "source": "Continuous models are also a form of data compression. When a model fits a dataset well, a small set of parameters can summarize a large amount of data."
        },
        {
          "cell_type": "markdown",
          "metadata": {
          },
          "source": "It is sometimes surprising when data from a natural phenomenon fit a continuous distribution, but these observations can lead to insight into physical systems. Sometimes we can explain why an observed distribution has a particular form. For example, Pareto distributions are often the result of generative processes with positive feedback (so-called preferential attachment processes: see [http://wikipedia.org/wiki/Preferential\\_attachment](http://wikipedia.org/wiki/Preferential_attachment).)."
        },
        {
          "cell_type": "markdown",
          "metadata": {
          },
          "source": "Continuous distributions lend themselves to mathematical analysis, as we will see in [Chapter 6](ch06.html#operations)."
        },
        {
          "cell_type": "heading",
          "level": 2,
          "metadata": {
          },
          "source": "Generating Random Numbers"
        },
        {
          "cell_type": "markdown",
          "metadata": {
          },
          "source": "Continuous CDFs are also useful for generating random numbers. If there is an efficient way to compute the inverse CDF, ICDF(_p_), we can generate random values with the appropriate distribution by choosing from a uniform distribution from 0 to 1, then choosing:"
        },
        {
          "cell_type": "markdown",
          "metadata": {
          },
          "source": "_x_ = ICDF(_p_)"
        },
        {
          "cell_type": "markdown",
          "metadata": {
          },
          "source": "For example, the CDF of the exponential distribution is:"
        },
        {
          "cell_type": "markdown",
          "metadata": {
          },
          "source": "_p_ = 1 − _e-λx_"
        },
        {
          "cell_type": "markdown",
          "metadata": {
          },
          "source": "Solving for _x_ yields:"
        },
        {
          "cell_type": "markdown",
          "metadata": {
          },
          "source": "_x_= −log (1 − _p_) / _λ_"
        },
        {
          "cell_type": "markdown",
          "metadata": {
          },
          "source": "So in Python we can write:"
        },
        {
          "cell_type": "code",
          "collapsed": false,
          "input": "def expovariate(lam):\n    p = random.random()\n    x = -math.log(1-p) / lam\n    return x",
          "language": "python",
          "metadata": {
          },
          "outputs": [

          ]
        },
        {
          "cell_type": "markdown",
          "metadata": {
          },
          "source": "I called the parameter `lam` because `lambda` is a Python keyword. Most implementations of `random.random` can return 0 but not 1, so 1 − _p_ can be 1 but not 0, which is good, because log 0 is undefined."
        },
        {
          "cell_type": "markdown",
          "metadata": {
          },
          "source": "."
        }
      ],
      "metadata": {
      }
    }
  ]
}